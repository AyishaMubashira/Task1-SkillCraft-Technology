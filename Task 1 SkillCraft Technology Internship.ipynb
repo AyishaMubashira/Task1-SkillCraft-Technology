{
 "cells": [
  {
   "cell_type": "markdown",
   "id": "a62404e5-7fba-46dc-b9aa-92aac64f291d",
   "metadata": {},
   "source": [
    "### <font color = Pink>**TASK 1**</fonts>"
   ]
  },
  {
   "cell_type": "raw",
   "id": "bc3ab19b-9a18-4774-a9c6-cf5b2e2ba0f6",
   "metadata": {},
   "source": [
    "Create a bar chart or Histogram to visualize the distribution of a categorical or continuous variable ,such as the \n",
    "distribution of ages or genders in a population."
   ]
  },
  {
   "cell_type": "markdown",
   "id": "d257dc61-0b3a-4a3c-82c3-eb5b165be28c",
   "metadata": {},
   "source": [
    "##### <font color = Pink>**VISUALIZE AGE DISTRIBUTION OF POPULATION BY HISTOGRAM**</fonts>"
   ]
  },
  {
   "cell_type": "markdown",
   "id": "7f7a896a-0f52-4908-adc8-0f23b44701ff",
   "metadata": {},
   "source": [
    "###### <font color = lightBlue>**Import Necessary Libraries**</fonts>"
   ]
  },
  {
   "cell_type": "code",
   "execution_count": 1,
   "id": "6db08866-3991-4bc9-a061-a31384934b7e",
   "metadata": {},
   "outputs": [],
   "source": [
    "import warnings\n",
    "import sys\n",
    "if not sys.warnoptions:\n",
    "    warnings.simplefilter(\"ignore\")\n",
    "import pandas as pd \n",
    "import numpy as numpy\n",
    "import matplotlib.pyplot as plt\n",
    "import seaborn as sns"
   ]
  },
  {
   "cell_type": "markdown",
   "id": "09a69e7b-a51c-4d49-b4d4-20b2b6d23c2a",
   "metadata": {},
   "source": [
    "##### <font color = lightblue>**Load the Dataset**</fonts>"
   ]
  },
  {
   "cell_type": "code",
   "execution_count": 52,
   "id": "df0d373d-d434-47cb-832b-599dd2f5d5df",
   "metadata": {},
   "outputs": [
    {
     "data": {
      "text/html": [
       "<div>\n",
       "<style scoped>\n",
       "    .dataframe tbody tr th:only-of-type {\n",
       "        vertical-align: middle;\n",
       "    }\n",
       "\n",
       "    .dataframe tbody tr th {\n",
       "        vertical-align: top;\n",
       "    }\n",
       "\n",
       "    .dataframe thead th {\n",
       "        text-align: right;\n",
       "    }\n",
       "</style>\n",
       "<table border=\"1\" class=\"dataframe\">\n",
       "  <thead>\n",
       "    <tr style=\"text-align: right;\">\n",
       "      <th></th>\n",
       "      <th>Person_ID</th>\n",
       "      <th>Age</th>\n",
       "      <th>Gender</th>\n",
       "      <th>State</th>\n",
       "      <th>Marital_Status</th>\n",
       "    </tr>\n",
       "  </thead>\n",
       "  <tbody>\n",
       "    <tr>\n",
       "      <th>0</th>\n",
       "      <td>1</td>\n",
       "      <td>28</td>\n",
       "      <td>Male</td>\n",
       "      <td>Uttar Pradesh</td>\n",
       "      <td>Single</td>\n",
       "    </tr>\n",
       "    <tr>\n",
       "      <th>1</th>\n",
       "      <td>2</td>\n",
       "      <td>32</td>\n",
       "      <td>Female</td>\n",
       "      <td>Maharashtra</td>\n",
       "      <td>Married</td>\n",
       "    </tr>\n",
       "    <tr>\n",
       "      <th>2</th>\n",
       "      <td>3</td>\n",
       "      <td>38</td>\n",
       "      <td>Male</td>\n",
       "      <td>Tamil Nadu</td>\n",
       "      <td>Married</td>\n",
       "    </tr>\n",
       "    <tr>\n",
       "      <th>3</th>\n",
       "      <td>4</td>\n",
       "      <td>42</td>\n",
       "      <td>Female</td>\n",
       "      <td>Karnataka</td>\n",
       "      <td>Married</td>\n",
       "    </tr>\n",
       "    <tr>\n",
       "      <th>4</th>\n",
       "      <td>5</td>\n",
       "      <td>29</td>\n",
       "      <td>Female</td>\n",
       "      <td>Gujarat</td>\n",
       "      <td>Single</td>\n",
       "    </tr>\n",
       "    <tr>\n",
       "      <th>...</th>\n",
       "      <td>...</td>\n",
       "      <td>...</td>\n",
       "      <td>...</td>\n",
       "      <td>...</td>\n",
       "      <td>...</td>\n",
       "    </tr>\n",
       "    <tr>\n",
       "      <th>59</th>\n",
       "      <td>60</td>\n",
       "      <td>102</td>\n",
       "      <td>Female</td>\n",
       "      <td>Sikkim</td>\n",
       "      <td>Married</td>\n",
       "    </tr>\n",
       "    <tr>\n",
       "      <th>60</th>\n",
       "      <td>61</td>\n",
       "      <td>28</td>\n",
       "      <td>Male</td>\n",
       "      <td>Delhi</td>\n",
       "      <td>Single</td>\n",
       "    </tr>\n",
       "    <tr>\n",
       "      <th>61</th>\n",
       "      <td>62</td>\n",
       "      <td>32</td>\n",
       "      <td>Female</td>\n",
       "      <td>Goa</td>\n",
       "      <td>Married</td>\n",
       "    </tr>\n",
       "    <tr>\n",
       "      <th>62</th>\n",
       "      <td>63</td>\n",
       "      <td>38</td>\n",
       "      <td>Male</td>\n",
       "      <td>Puducherry</td>\n",
       "      <td>Married</td>\n",
       "    </tr>\n",
       "    <tr>\n",
       "      <th>63</th>\n",
       "      <td>64</td>\n",
       "      <td>42</td>\n",
       "      <td>Female</td>\n",
       "      <td>Chandigarh</td>\n",
       "      <td>Married</td>\n",
       "    </tr>\n",
       "  </tbody>\n",
       "</table>\n",
       "<p>64 rows × 5 columns</p>\n",
       "</div>"
      ],
      "text/plain": [
       "    Person_ID  Age  Gender          State Marital_Status\n",
       "0           1   28    Male  Uttar Pradesh         Single\n",
       "1           2   32  Female    Maharashtra        Married\n",
       "2           3   38    Male     Tamil Nadu        Married\n",
       "3           4   42  Female      Karnataka        Married\n",
       "4           5   29  Female        Gujarat         Single\n",
       "..        ...  ...     ...            ...            ...\n",
       "59         60  102  Female         Sikkim        Married\n",
       "60         61   28    Male          Delhi         Single\n",
       "61         62   32  Female            Goa        Married\n",
       "62         63   38    Male     Puducherry        Married\n",
       "63         64   42  Female     Chandigarh        Married\n",
       "\n",
       "[64 rows x 5 columns]"
      ]
     },
     "execution_count": 52,
     "metadata": {},
     "output_type": "execute_result"
    }
   ],
   "source": [
    "data = pd.read_excel(\"C:\\\\Users\\\\hp\\\\OneDrive\\\\Documents\\\\Age and Population..xlsx\")\n",
    "data"
   ]
  },
  {
   "cell_type": "code",
   "execution_count": 54,
   "id": "52ef8866-57f3-4a18-b85d-235c35bfe4e5",
   "metadata": {},
   "outputs": [
    {
     "data": {
      "text/html": [
       "<div>\n",
       "<style scoped>\n",
       "    .dataframe tbody tr th:only-of-type {\n",
       "        vertical-align: middle;\n",
       "    }\n",
       "\n",
       "    .dataframe tbody tr th {\n",
       "        vertical-align: top;\n",
       "    }\n",
       "\n",
       "    .dataframe thead th {\n",
       "        text-align: right;\n",
       "    }\n",
       "</style>\n",
       "<table border=\"1\" class=\"dataframe\">\n",
       "  <thead>\n",
       "    <tr style=\"text-align: right;\">\n",
       "      <th></th>\n",
       "      <th>Person_ID</th>\n",
       "      <th>Age</th>\n",
       "      <th>Gender</th>\n",
       "      <th>State</th>\n",
       "      <th>Marital_Status</th>\n",
       "    </tr>\n",
       "  </thead>\n",
       "  <tbody>\n",
       "    <tr>\n",
       "      <th>0</th>\n",
       "      <td>1</td>\n",
       "      <td>28</td>\n",
       "      <td>Male</td>\n",
       "      <td>Uttar Pradesh</td>\n",
       "      <td>Single</td>\n",
       "    </tr>\n",
       "    <tr>\n",
       "      <th>1</th>\n",
       "      <td>2</td>\n",
       "      <td>32</td>\n",
       "      <td>Female</td>\n",
       "      <td>Maharashtra</td>\n",
       "      <td>Married</td>\n",
       "    </tr>\n",
       "    <tr>\n",
       "      <th>2</th>\n",
       "      <td>3</td>\n",
       "      <td>38</td>\n",
       "      <td>Male</td>\n",
       "      <td>Tamil Nadu</td>\n",
       "      <td>Married</td>\n",
       "    </tr>\n",
       "    <tr>\n",
       "      <th>3</th>\n",
       "      <td>4</td>\n",
       "      <td>42</td>\n",
       "      <td>Female</td>\n",
       "      <td>Karnataka</td>\n",
       "      <td>Married</td>\n",
       "    </tr>\n",
       "    <tr>\n",
       "      <th>4</th>\n",
       "      <td>5</td>\n",
       "      <td>29</td>\n",
       "      <td>Female</td>\n",
       "      <td>Gujarat</td>\n",
       "      <td>Single</td>\n",
       "    </tr>\n",
       "  </tbody>\n",
       "</table>\n",
       "</div>"
      ],
      "text/plain": [
       "   Person_ID  Age  Gender          State Marital_Status\n",
       "0          1   28    Male  Uttar Pradesh         Single\n",
       "1          2   32  Female    Maharashtra        Married\n",
       "2          3   38    Male     Tamil Nadu        Married\n",
       "3          4   42  Female      Karnataka        Married\n",
       "4          5   29  Female        Gujarat         Single"
      ]
     },
     "execution_count": 54,
     "metadata": {},
     "output_type": "execute_result"
    }
   ],
   "source": [
    "data.head()"
   ]
  },
  {
   "cell_type": "code",
   "execution_count": 56,
   "id": "7228542d-f421-4ba4-8c8c-6f27778beb5f",
   "metadata": {},
   "outputs": [
    {
     "data": {
      "text/plain": [
       "(64, 5)"
      ]
     },
     "execution_count": 56,
     "metadata": {},
     "output_type": "execute_result"
    }
   ],
   "source": [
    "data.shape"
   ]
  },
  {
   "cell_type": "code",
   "execution_count": 58,
   "id": "9777bb82-5e79-43a9-ace1-db4cc38d1467",
   "metadata": {},
   "outputs": [
    {
     "name": "stdout",
     "output_type": "stream",
     "text": [
      "<class 'pandas.core.frame.DataFrame'>\n",
      "RangeIndex: 64 entries, 0 to 63\n",
      "Data columns (total 5 columns):\n",
      " #   Column          Non-Null Count  Dtype \n",
      "---  ------          --------------  ----- \n",
      " 0   Person_ID       64 non-null     int64 \n",
      " 1   Age             64 non-null     int64 \n",
      " 2   Gender          64 non-null     object\n",
      " 3   State           64 non-null     object\n",
      " 4   Marital_Status  64 non-null     object\n",
      "dtypes: int64(2), object(3)\n",
      "memory usage: 2.6+ KB\n"
     ]
    }
   ],
   "source": [
    "data.info()"
   ]
  },
  {
   "cell_type": "code",
   "execution_count": 60,
   "id": "f1ccd067-a7e9-4c8a-9fdd-46fd54193d57",
   "metadata": {},
   "outputs": [
    {
     "data": {
      "text/html": [
       "<div>\n",
       "<style scoped>\n",
       "    .dataframe tbody tr th:only-of-type {\n",
       "        vertical-align: middle;\n",
       "    }\n",
       "\n",
       "    .dataframe tbody tr th {\n",
       "        vertical-align: top;\n",
       "    }\n",
       "\n",
       "    .dataframe thead th {\n",
       "        text-align: right;\n",
       "    }\n",
       "</style>\n",
       "<table border=\"1\" class=\"dataframe\">\n",
       "  <thead>\n",
       "    <tr style=\"text-align: right;\">\n",
       "      <th></th>\n",
       "      <th>Person_ID</th>\n",
       "      <th>Age</th>\n",
       "    </tr>\n",
       "  </thead>\n",
       "  <tbody>\n",
       "    <tr>\n",
       "      <th>count</th>\n",
       "      <td>64.000000</td>\n",
       "      <td>64.000000</td>\n",
       "    </tr>\n",
       "    <tr>\n",
       "      <th>mean</th>\n",
       "      <td>32.500000</td>\n",
       "      <td>63.546875</td>\n",
       "    </tr>\n",
       "    <tr>\n",
       "      <th>std</th>\n",
       "      <td>18.618987</td>\n",
       "      <td>23.396465</td>\n",
       "    </tr>\n",
       "    <tr>\n",
       "      <th>min</th>\n",
       "      <td>1.000000</td>\n",
       "      <td>25.000000</td>\n",
       "    </tr>\n",
       "    <tr>\n",
       "      <th>25%</th>\n",
       "      <td>16.750000</td>\n",
       "      <td>42.000000</td>\n",
       "    </tr>\n",
       "    <tr>\n",
       "      <th>50%</th>\n",
       "      <td>32.500000</td>\n",
       "      <td>63.500000</td>\n",
       "    </tr>\n",
       "    <tr>\n",
       "      <th>75%</th>\n",
       "      <td>48.250000</td>\n",
       "      <td>82.750000</td>\n",
       "    </tr>\n",
       "    <tr>\n",
       "      <th>max</th>\n",
       "      <td>64.000000</td>\n",
       "      <td>102.000000</td>\n",
       "    </tr>\n",
       "  </tbody>\n",
       "</table>\n",
       "</div>"
      ],
      "text/plain": [
       "       Person_ID         Age\n",
       "count  64.000000   64.000000\n",
       "mean   32.500000   63.546875\n",
       "std    18.618987   23.396465\n",
       "min     1.000000   25.000000\n",
       "25%    16.750000   42.000000\n",
       "50%    32.500000   63.500000\n",
       "75%    48.250000   82.750000\n",
       "max    64.000000  102.000000"
      ]
     },
     "execution_count": 60,
     "metadata": {},
     "output_type": "execute_result"
    }
   ],
   "source": [
    "data.describe()"
   ]
  },
  {
   "cell_type": "code",
   "execution_count": 62,
   "id": "7667642f-a565-491b-a7d8-04795408d0b1",
   "metadata": {},
   "outputs": [
    {
     "data": {
      "text/plain": [
       "Index(['Person_ID', 'Age', 'Gender', 'State', 'Marital_Status'], dtype='object')"
      ]
     },
     "execution_count": 62,
     "metadata": {},
     "output_type": "execute_result"
    }
   ],
   "source": [
    "data.columns"
   ]
  },
  {
   "cell_type": "code",
   "execution_count": 64,
   "id": "d9f31491-058c-4b73-9684-99edb2fb16b7",
   "metadata": {},
   "outputs": [
    {
     "data": {
      "text/plain": [
       "Person_ID         0\n",
       "Age               0\n",
       "Gender            0\n",
       "State             0\n",
       "Marital_Status    0\n",
       "dtype: int64"
      ]
     },
     "execution_count": 64,
     "metadata": {},
     "output_type": "execute_result"
    }
   ],
   "source": [
    "data.isnull().sum()"
   ]
  },
  {
   "cell_type": "code",
   "execution_count": 66,
   "id": "2fdb3f7b-64d5-42e5-b319-f7b33ac47cfa",
   "metadata": {},
   "outputs": [
    {
     "data": {
      "text/plain": [
       "0"
      ]
     },
     "execution_count": 66,
     "metadata": {},
     "output_type": "execute_result"
    }
   ],
   "source": [
    "data.duplicated().sum()"
   ]
  },
  {
   "cell_type": "code",
   "execution_count": 70,
   "id": "9bcaa99f-0aea-4924-b0cf-a7952ceab3fb",
   "metadata": {},
   "outputs": [
    {
     "data": {
      "image/png": "[encoded data removed]",
      "text/plain": [
       "<Figure size 1000x600 with 1 Axes>"
      ]
     },
     "metadata": {},
     "output_type": "display_data"
    }
   ],
   "source": [
    "#Plot Histogram\n",
    "plt.figure(figsize=(10,6))\n",
    "sns.histplot(data['Age'], bins=10, kde=True, edgecolor='Black', color='red')\n",
    "plt.title(\"Population Distribution by Age\")\n",
    "plt.xlabel(\"Age_Group\")\n",
    "plt.ylabel(\"Population\")\n",
    "plt.xticks(rotation=90)\n",
    "plt.show()"
   ]
  },
  {
   "cell_type": "markdown",
   "id": "7b9dc9e0-32c4-4b7f-ad21-dfb78d43ec64",
   "metadata": {},
   "source": [
    "Key Insights : The majority of Population fall within the 25 to 50 age range which is considered the working age group.Age ranges from\n",
    "25 to 105 indicating a diverse population with a significant presence of both young and elderely individuals."
   ]
  }
 ],
 "metadata": {
  "kernelspec": {
   "display_name": "Python 3 (ipykernel)",
   "language": "python",
   "name": "python3"
  },
  "language_info": {
   "codemirror_mode": {
    "name": "ipython",
    "version": 3
   },
   "file_extension": ".py",
   "mimetype": "text/x-python",
   "name": "python",
   "nbconvert_exporter": "python",
   "pygments_lexer": "ipython3",
   "version": "3.12.4"
  }
 },
 "nbformat": 4,
 "nbformat_minor": 5
}
